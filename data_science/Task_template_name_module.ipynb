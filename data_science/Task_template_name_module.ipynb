{
  "nbformat": 4,
  "nbformat_minor": 0,
  "metadata": {
    "kernelspec": {
      "name": "python3",
      "display_name": "Python 3.8.5 64-bit ('base': conda)"
    },
    "language_info": {
      "codemirror_mode": {
        "name": "ipython",
        "version": 3
      },
      "file_extension": ".py",
      "mimetype": "text/x-python",
      "name": "python",
      "nbconvert_exporter": "python",
      "pygments_lexer": "ipython3",
      "version": "3.8.5"
    },
    "colab": {
      "name": "Task_template_name_module.ipynb",
      "provenance": []
    },
    "interpreter": {
      "hash": "ccecdff9ca714e38c2a39eaceb97a71eff69a630c8c613629541139f68212202"
    }
  },
  "cells": [
    {
      "cell_type": "markdown",
      "metadata": {
        "id": "HuWeGn43yeHk"
      },
      "source": [
        "# Module 4 Guidance\n",
        "\n",
        "This notebook is a template for module 4b and 4c, which will be tested in Google Colab, your code needs to run there.\n",
        "The structure has been provided to improve consistency and make it easier for markers to understand your code but still give students the flexibility to be creative.  You need to populate the required functions to solve this problem.  All dependencies should be documented in the next cell.\n",
        "\n",
        "You can:\n",
        "    add further cells or text blocks to extend or further explain your solution\n",
        "    add further functions\n",
        "\n",
        "Dont:\n",
        "    rename functions\n",
        "   "
      ]
    },
    {
      "cell_type": "code",
      "metadata": {
        "id": "USzvedjfyeHp"
      },
      "source": [
        "# Fixed dependencies - do not remove or change.\n",
        "import pytest\n",
        "import pandas as pd\n",
        "import numpy as np\n",
        "# from google.colab import drive\n",
        "# drive.mount('/content/gdrive/')\n",
        "# Import your dependencies\n",
        "\n",
        "\n"
      ],
      "execution_count": 2,
      "outputs": []
    },
    {
      "cell_type": "code",
      "metadata": {
        "id": "A9Ru2FFyyeHp"
      },
      "source": [
        "# Import data\n",
        "\n",
        "def import_local_data(file_path):\n",
        "    \"\"\"This function needs to import the data file into collab and return a pandas dataframe\n",
        "    \"\"\"\n",
        "    raw_df = pd.read_csv(file_path)\n",
        "\n",
        "\n",
        "    return raw_df"
      ],
      "execution_count": 3,
      "outputs": []
    },
    {
      "cell_type": "code",
      "metadata": {
        "id": "eyvrH3ezyeHq"
      },
      "source": [
        "# this_directory = os.path.abspath(os.path.dirname(__file__))\n",
        "# Importing the dataset\n",
        "# local_file_path = os.path.join(this_directory,'breast-cancer.csv')\n",
        "local_file_path = 'breast-cancer_old.csv'"
      ],
      "execution_count": 5,
      "outputs": []
    },
    {
      "cell_type": "code",
      "metadata": {
        "id": "4C_hpKUeyeHq"
      },
      "source": [
        "# Dont change\n",
        "raw_data = import_local_data(local_file_path)\n",
        "print(raw_data)"
      ],
      "execution_count": 6,
      "outputs": [
        {
          "output_type": "stream",
          "name": "stdout",
          "text": [
            "       age menopause tumor-size inv-nodes node-caps  deg-malig breast  \\\n0    40-49   premeno      15-19       0-2       yes          3  right   \n1    50-59      ge40      15-19       0-2        no          1  right   \n2    50-59      ge40      35-39       0-2        no          2   left   \n3    40-49   premeno      35-39       0-2       yes          3  right   \n4    40-49   premeno      30-34     3-May       yes          2   left   \n..     ...       ...        ...       ...       ...        ...    ...   \n281  50-59      ge40      30-34     6-Aug       yes          2   left   \n282  50-59   premeno      25-29     3-May       yes          2   left   \n283  30-39   premeno      30-34     6-Aug       yes          2  right   \n284  50-59   premeno      15-19       0-2        no          2  right   \n285  50-59      ge40      40-44       0-2        no          3   left   \n\n    breast-quad irradiat                 Class  \n0       left_up       no     recurrence-events  \n1       central       no  no-recurrence-events  \n2      left_low       no     recurrence-events  \n3      left_low      yes  no-recurrence-events  \n4      right_up       no     recurrence-events  \n..          ...      ...                   ...  \n281    left_low       no  no-recurrence-events  \n282    left_low      yes  no-recurrence-events  \n283    right_up       no  no-recurrence-events  \n284    left_low       no  no-recurrence-events  \n285    right_up       no  no-recurrence-events  \n\n[286 rows x 10 columns]\n"
          ]
        }
      ]
    },
    {
      "cell_type": "markdown",
      "metadata": {
        "id": "n2b7OBPvyeHq"
      },
      "source": [
        "### Conduct exploratory data analysis and explain your key findings - Examine the data, explain its key features and what they look like.  Highlight any fields that are anomalous."
      ]
    },
    {
      "cell_type": "code",
      "metadata": {
        "id": "71bhS-W_yeHq"
      },
      "source": [
        "# Age, tumor size and inv nodes are in ranges rather than whole numbers. Inv nodes seems to have some formatting errors, changing some to dates."
      ],
      "execution_count": null,
      "outputs": []
    },
    {
      "cell_type": "code",
      "metadata": {
        "id": "diWKBUsryeHr"
      },
      "source": [
        "# The node-caps variable has a value of '?' 8 times, which I will need to either replace or ignore the rows altogether. "
      ],
      "execution_count": null,
      "outputs": []
    },
    {
      "cell_type": "code",
      "metadata": {
        "id": "UPf2HMSOyeHr"
      },
      "source": [
        "# Other variables are categorical and should be easy to work with. There are significantly more 'no-recurrence-events' than 'recurrence', which may cause problems"
      ],
      "execution_count": null,
      "outputs": []
    },
    {
      "cell_type": "markdown",
      "metadata": {
        "id": "n8u_fMf7yeHr"
      },
      "source": [
        "Create any data pre-processing that you will conduct on seen and unseen data.  Regardless of the model you use, this dataframe must contain only numeric features and have a strategy for any expected missing values. Any objects can that are needed to handle the test data that are dependent on the training data can be stored in the model class.  You are recommended to use sklearn Pipelines or similar functionality to ensure reproducibility."
      ]
    },
    {
      "cell_type": "code",
      "metadata": {
        "id": "rpWY9_zXyeHr"
      },
      "source": [
        "# Split your data so that you can test the effectiveness of your model"
      ],
      "execution_count": null,
      "outputs": []
    },
    {
      "cell_type": "code",
      "metadata": {
        "id": "pNrlNdvuyeHs"
      },
      "source": [
        "# Populate preprocess_training_data and preprocess_test_data to preprocess data.\n",
        "# You must process test and train separately so your model does not accidently gain information that a model wouldnt have in reality and therefore get better predictions"
      ],
      "execution_count": null,
      "outputs": []
    },
    {
      "cell_type": "code",
      "metadata": {
        "id": "AbeqAOjyyeHs"
      },
      "source": [
        "class Module4_Model:\n",
        "    \n",
        "    def __init__(self):\n",
        "        self.model = None\n",
        "        \n",
        "    def preprocess_training_data(self, training_df):\n",
        "        \"\"\"\n",
        "        This function should process the training data and store any features required in the class\n",
        "        \"\"\"\n",
        "        df = training_df.iloc[:, :].values\n",
        "        \n",
        "        return processed_df\n",
        "\n",
        "    def preprocess_test_data(self, test_df):\n",
        "\n",
        "        return processed_df\n",
        "\n"
      ],
      "execution_count": null,
      "outputs": []
    },
    {
      "cell_type": "code",
      "metadata": {
        "id": "kN0_zDPFyeHt"
      },
      "source": [
        "# Dont change\n",
        "my_model = Module4_Model()"
      ],
      "execution_count": null,
      "outputs": []
    },
    {
      "cell_type": "code",
      "metadata": {
        "id": "6mK9beCnyeHt"
      },
      "source": [
        "# Dont change\n",
        "x_train_processed = my_model.preprocess_training_data(x_train)"
      ],
      "execution_count": null,
      "outputs": []
    },
    {
      "cell_type": "code",
      "metadata": {
        "id": "cEyNp57WyeHt"
      },
      "source": [
        "# Create a model"
      ],
      "execution_count": null,
      "outputs": []
    },
    {
      "cell_type": "code",
      "metadata": {
        "id": "jnb7YrOxyeHv"
      },
      "source": [
        ""
      ],
      "execution_count": null,
      "outputs": []
    },
    {
      "cell_type": "code",
      "metadata": {
        "id": "OiLG-6EByeHv"
      },
      "source": [
        "# Dont change\n",
        "x_test_processed = my_model.preprocess_test_data(x_test)"
      ],
      "execution_count": null,
      "outputs": []
    },
    {
      "cell_type": "code",
      "metadata": {
        "id": "iyd6959hyeHx"
      },
      "source": [
        "# Train your model"
      ],
      "execution_count": null,
      "outputs": []
    },
    {
      "cell_type": "code",
      "metadata": {
        "id": "o2MB6-FPyeHx"
      },
      "source": [
        ""
      ],
      "execution_count": null,
      "outputs": []
    },
    {
      "cell_type": "code",
      "metadata": {
        "id": "xHNTGicRyeHx"
      },
      "source": [
        "# use your model to make a prediction on unseen data"
      ],
      "execution_count": null,
      "outputs": []
    },
    {
      "cell_type": "code",
      "metadata": {
        "id": "fVXlimZryeHy"
      },
      "source": [
        ""
      ],
      "execution_count": null,
      "outputs": []
    },
    {
      "cell_type": "code",
      "metadata": {
        "id": "gHHnwqGHyeHy"
      },
      "source": [
        "# Asssess the accuracy of your model and explain your key findings"
      ],
      "execution_count": null,
      "outputs": []
    },
    {
      "cell_type": "markdown",
      "metadata": {
        "id": "n_2tLl3OyeHy"
      },
      "source": [
        "### Unit tests:"
      ]
    },
    {
      "cell_type": "markdown",
      "metadata": {
        "id": "y5w1HNNHyeHy"
      },
      "source": [
        "#### Checking training and test data for null values. This will work for both pd dataframes and np arrays, and ensures no null values exist."
      ]
    },
    {
      "cell_type": "code",
      "metadata": {
        "id": "o0h-fwWRyeHz"
      },
      "source": [
        "def test_no_nulls(data):\n",
        "    \"\"\" Assert no null values within pd dataframe or np array \"\"\"\n",
        "    \n",
        "    # if data is numpy array, handle accordingly\n",
        "    if isinstance(data, (np.ndarray)):\n",
        "        assert not np.isnan(np.min(data))\n",
        "    \n",
        "    # if not np array, assume data is pandas dataframe\n",
        "    else:\n",
        "        assert data.isna().sum().sum() == 0"
      ],
      "execution_count": null,
      "outputs": []
    },
    {
      "cell_type": "code",
      "metadata": {
        "id": "OIjldycEyeHz"
      },
      "source": [
        "# run null data unit test on both training and test data\n",
        "test_no_nulls(x_train_processed)\n",
        "test_no_nulls(x_test_processed)"
      ],
      "execution_count": null,
      "outputs": []
    }
  ]
}